{
 "cells": [
  {
   "cell_type": "code",
   "execution_count": 1,
   "metadata": {},
   "outputs": [],
   "source": [
    "import sklearn\n",
    "import pandas as pd\n",
    "import spotipy\n",
    "import matplotlib.pyplot as plt\n",
    "import seaborn as sns\n",
    "sp = spotipy.Spotify()\n",
    "from spotipy.oauth2 import SpotifyClientCredentials\n",
    "cid =\"fd0d61f83f63494db11ef5f80c4448a4\"\n",
    "secret = \"829d69e9109d4783b82b808ea03f9ee7\"\n",
    "client_credentials_manager = SpotifyClientCredentials(client_id=cid, client_secret=secret)\n",
    "sp = spotipy.Spotify(client_credentials_manager=client_credentials_manager)\n",
    "sp.trace=False"
   ]
  },
  {
   "cell_type": "code",
   "execution_count": 3,
   "metadata": {},
   "outputs": [],
   "source": [
    "user_info = [{\"user\": \"Zoe\", \"playlist_id\": \"37i9dQZF1Eje771Dj6R4Uy\"}, {\"user\": \"Mamta\", \"playlist_id\": \"37i9dQZF1Ejvvyo8JT8iW6\"}, {\"user\": \"Kelly\", \"playlist_id\": \"37i9dQZF1EjhjDiEazJ7Zw\"}]\n",
    "\n",
    "for user in user_info:\n",
    "    playlist = sp.user_playlist(user[\"user\"], user[\"playlist_id\"])\n",
    "    songs = playlist[\"tracks\"][\"items\"]\n",
    "    ids = []\n",
    "    for i in range(len(songs)):\n",
    "       ids.append(songs[i][\"track\"][\"id\"])\n",
    "    features = sp.audio_features(ids)\n",
    "    if user[\"user\"] == \"Zoe\":\n",
    "        df_Zoe = pd.DataFrame(features)\n",
    "        df_Zoe[\"outcome\"] = 1\n",
    "        target_Zoe = df_Zoe[\"outcome\"]\n",
    "        info_Zoe = df_Zoe.describe()\n",
    "        new_info_Zoe = info_Zoe.drop([\"count\", \"std\", \"min\", \"25%\", \"50%\", \"75%\", \"max\"],axis=0)\n",
    "        new_info2_Zoe = new_info_Zoe.drop([\"acousticness\", \"danceability\", \"duration_ms\", \"instrumentalness\", \"key\", \"liveness\", \"mode\", \"speechiness\", \"time_signature\", \"outcome\"], axis=1)\n",
    "        new_info2_Zoe[\"User\"] = \"Zoe\"\n",
    "    elif user[\"user\"] == \"Mamta\":\n",
    "        df_Mamta = pd.DataFrame(features)\n",
    "        df_Mamta[\"outcome\"] = 1\n",
    "        target_Mamta = df_Mamta[\"outcome\"]\n",
    "        info_Mamta = df_Mamta.describe()\n",
    "        new_info_Mamta = info_Mamta.drop([\"count\", \"std\", \"min\", \"25%\", \"50%\", \"75%\", \"max\"],axis=0)\n",
    "        new_info2_Mamta = new_info_Mamta.drop([\"acousticness\", \"danceability\", \"duration_ms\", \"instrumentalness\", \"key\", \"liveness\", \"mode\", \"speechiness\", \"time_signature\", \"outcome\"], axis=1)\n",
    "        new_info2_Mamta[\"User\"] = \"Mamta\"\n",
    "    else:\n",
    "        df_Kelly = pd.DataFrame(features)\n",
    "        df_Kelly[\"outcome\"] = 1\n",
    "        target_Kelly = df_Kelly[\"outcome\"]\n",
    "        info_Kelly = df_Kelly.describe()\n",
    "        new_info_Kelly = info_Kelly.drop([\"count\", \"std\", \"min\", \"25%\", \"50%\", \"75%\", \"max\"],axis=0)\n",
    "        new_info2_Kelly = new_info_Kelly.drop([\"acousticness\", \"danceability\", \"duration_ms\", \"instrumentalness\", \"key\", \"liveness\", \"mode\", \"speechiness\", \"time_signature\", \"outcome\"], axis=1)\n",
    "        new_info2_Kelly[\"User\"] = \"Kelly\"\n",
    "\n",
    "    "
   ]
  },
  {
   "cell_type": "code",
   "execution_count": 4,
   "metadata": {},
   "outputs": [
    {
     "data": {
      "text/html": [
       "<div>\n",
       "<style scoped>\n",
       "    .dataframe tbody tr th:only-of-type {\n",
       "        vertical-align: middle;\n",
       "    }\n",
       "\n",
       "    .dataframe tbody tr th {\n",
       "        vertical-align: top;\n",
       "    }\n",
       "\n",
       "    .dataframe thead th {\n",
       "        text-align: right;\n",
       "    }\n",
       "</style>\n",
       "<table border=\"1\" class=\"dataframe\">\n",
       "  <thead>\n",
       "    <tr style=\"text-align: right;\">\n",
       "      <th></th>\n",
       "      <th>energy</th>\n",
       "      <th>loudness</th>\n",
       "      <th>tempo</th>\n",
       "      <th>valence</th>\n",
       "      <th>User</th>\n",
       "    </tr>\n",
       "  </thead>\n",
       "  <tbody>\n",
       "    <tr>\n",
       "      <th>mean</th>\n",
       "      <td>0.557756</td>\n",
       "      <td>-9.00656</td>\n",
       "      <td>119.24430</td>\n",
       "      <td>0.497036</td>\n",
       "      <td>Zoe</td>\n",
       "    </tr>\n",
       "    <tr>\n",
       "      <th>mean</th>\n",
       "      <td>0.667667</td>\n",
       "      <td>-6.00965</td>\n",
       "      <td>120.92230</td>\n",
       "      <td>0.515339</td>\n",
       "      <td>Mamta</td>\n",
       "    </tr>\n",
       "    <tr>\n",
       "      <th>mean</th>\n",
       "      <td>0.665350</td>\n",
       "      <td>-6.83917</td>\n",
       "      <td>117.85288</td>\n",
       "      <td>0.453720</td>\n",
       "      <td>Kelly</td>\n",
       "    </tr>\n",
       "  </tbody>\n",
       "</table>\n",
       "</div>"
      ],
      "text/plain": [
       "        energy  loudness      tempo   valence   User\n",
       "mean  0.557756  -9.00656  119.24430  0.497036    Zoe\n",
       "mean  0.667667  -6.00965  120.92230  0.515339  Mamta\n",
       "mean  0.665350  -6.83917  117.85288  0.453720  Kelly"
      ]
     },
     "execution_count": 4,
     "metadata": {},
     "output_type": "execute_result"
    }
   ],
   "source": [
    "# df_Zoe.head()\n",
    "# df_Mamta.head()\n",
    "# df_Kelly.head()\n",
    "# target_Kelly.head()\n",
    "\n",
    "frames = [new_info2_Zoe, new_info2_Mamta, new_info2_Kelly]\n",
    "\n",
    "final_df = pd.concat(frames)\n",
    "\n",
    "final_df.set_index(\"User\")\n",
    "\n",
    "final_df\n"
   ]
  },
  {
   "cell_type": "code",
   "execution_count": 5,
   "metadata": {},
   "outputs": [
    {
     "data": {
      "text/html": [
       "<div>\n",
       "<style scoped>\n",
       "    .dataframe tbody tr th:only-of-type {\n",
       "        vertical-align: middle;\n",
       "    }\n",
       "\n",
       "    .dataframe tbody tr th {\n",
       "        vertical-align: top;\n",
       "    }\n",
       "\n",
       "    .dataframe thead th {\n",
       "        text-align: right;\n",
       "    }\n",
       "</style>\n",
       "<table border=\"1\" class=\"dataframe\">\n",
       "  <thead>\n",
       "    <tr style=\"text-align: right;\">\n",
       "      <th></th>\n",
       "      <th>acousticness</th>\n",
       "      <th>danceability</th>\n",
       "      <th>duration_ms</th>\n",
       "      <th>energy</th>\n",
       "      <th>instrumentalness</th>\n",
       "      <th>key</th>\n",
       "      <th>liveness</th>\n",
       "      <th>loudness</th>\n",
       "      <th>mode</th>\n",
       "      <th>speechiness</th>\n",
       "      <th>tempo</th>\n",
       "      <th>time_signature</th>\n",
       "      <th>valence</th>\n",
       "      <th>outcome</th>\n",
       "    </tr>\n",
       "  </thead>\n",
       "  <tbody>\n",
       "    <tr>\n",
       "      <th>count</th>\n",
       "      <td>100.000000</td>\n",
       "      <td>100.000000</td>\n",
       "      <td>100.000000</td>\n",
       "      <td>100.000000</td>\n",
       "      <td>100.000000</td>\n",
       "      <td>100.000000</td>\n",
       "      <td>100.000000</td>\n",
       "      <td>100.000000</td>\n",
       "      <td>100.000000</td>\n",
       "      <td>100.000000</td>\n",
       "      <td>100.000000</td>\n",
       "      <td>100.000000</td>\n",
       "      <td>100.000000</td>\n",
       "      <td>100.0</td>\n",
       "    </tr>\n",
       "    <tr>\n",
       "      <th>mean</th>\n",
       "      <td>0.385240</td>\n",
       "      <td>0.550450</td>\n",
       "      <td>236135.990000</td>\n",
       "      <td>0.557756</td>\n",
       "      <td>0.183705</td>\n",
       "      <td>5.030000</td>\n",
       "      <td>0.172352</td>\n",
       "      <td>-9.006560</td>\n",
       "      <td>0.750000</td>\n",
       "      <td>0.052962</td>\n",
       "      <td>119.244300</td>\n",
       "      <td>3.910000</td>\n",
       "      <td>0.497036</td>\n",
       "      <td>1.0</td>\n",
       "    </tr>\n",
       "    <tr>\n",
       "      <th>std</th>\n",
       "      <td>0.291186</td>\n",
       "      <td>0.153709</td>\n",
       "      <td>66537.877969</td>\n",
       "      <td>0.178999</td>\n",
       "      <td>0.284099</td>\n",
       "      <td>3.471253</td>\n",
       "      <td>0.140067</td>\n",
       "      <td>3.367094</td>\n",
       "      <td>0.435194</td>\n",
       "      <td>0.058921</td>\n",
       "      <td>27.878289</td>\n",
       "      <td>0.320826</td>\n",
       "      <td>0.209467</td>\n",
       "      <td>0.0</td>\n",
       "    </tr>\n",
       "    <tr>\n",
       "      <th>min</th>\n",
       "      <td>0.000238</td>\n",
       "      <td>0.135000</td>\n",
       "      <td>73898.000000</td>\n",
       "      <td>0.070700</td>\n",
       "      <td>0.000000</td>\n",
       "      <td>0.000000</td>\n",
       "      <td>0.027100</td>\n",
       "      <td>-20.935000</td>\n",
       "      <td>0.000000</td>\n",
       "      <td>0.024200</td>\n",
       "      <td>69.572000</td>\n",
       "      <td>3.000000</td>\n",
       "      <td>0.041000</td>\n",
       "      <td>1.0</td>\n",
       "    </tr>\n",
       "    <tr>\n",
       "      <th>25%</th>\n",
       "      <td>0.109750</td>\n",
       "      <td>0.457000</td>\n",
       "      <td>192378.250000</td>\n",
       "      <td>0.447750</td>\n",
       "      <td>0.000187</td>\n",
       "      <td>2.000000</td>\n",
       "      <td>0.099925</td>\n",
       "      <td>-10.558500</td>\n",
       "      <td>0.750000</td>\n",
       "      <td>0.030275</td>\n",
       "      <td>99.595000</td>\n",
       "      <td>4.000000</td>\n",
       "      <td>0.356000</td>\n",
       "      <td>1.0</td>\n",
       "    </tr>\n",
       "    <tr>\n",
       "      <th>50%</th>\n",
       "      <td>0.358500</td>\n",
       "      <td>0.572000</td>\n",
       "      <td>223455.500000</td>\n",
       "      <td>0.557500</td>\n",
       "      <td>0.005700</td>\n",
       "      <td>5.000000</td>\n",
       "      <td>0.118000</td>\n",
       "      <td>-8.395000</td>\n",
       "      <td>1.000000</td>\n",
       "      <td>0.034600</td>\n",
       "      <td>118.603000</td>\n",
       "      <td>4.000000</td>\n",
       "      <td>0.497500</td>\n",
       "      <td>1.0</td>\n",
       "    </tr>\n",
       "    <tr>\n",
       "      <th>75%</th>\n",
       "      <td>0.596250</td>\n",
       "      <td>0.657250</td>\n",
       "      <td>268961.000000</td>\n",
       "      <td>0.670500</td>\n",
       "      <td>0.308000</td>\n",
       "      <td>8.000000</td>\n",
       "      <td>0.205750</td>\n",
       "      <td>-6.581750</td>\n",
       "      <td>1.000000</td>\n",
       "      <td>0.045125</td>\n",
       "      <td>135.230500</td>\n",
       "      <td>4.000000</td>\n",
       "      <td>0.662250</td>\n",
       "      <td>1.0</td>\n",
       "    </tr>\n",
       "    <tr>\n",
       "      <th>max</th>\n",
       "      <td>0.985000</td>\n",
       "      <td>0.956000</td>\n",
       "      <td>413578.000000</td>\n",
       "      <td>0.962000</td>\n",
       "      <td>0.903000</td>\n",
       "      <td>11.000000</td>\n",
       "      <td>0.930000</td>\n",
       "      <td>-3.046000</td>\n",
       "      <td>1.000000</td>\n",
       "      <td>0.444000</td>\n",
       "      <td>188.965000</td>\n",
       "      <td>5.000000</td>\n",
       "      <td>0.960000</td>\n",
       "      <td>1.0</td>\n",
       "    </tr>\n",
       "  </tbody>\n",
       "</table>\n",
       "</div>"
      ],
      "text/plain": [
       "       acousticness  danceability    duration_ms      energy  \\\n",
       "count    100.000000    100.000000     100.000000  100.000000   \n",
       "mean       0.385240      0.550450  236135.990000    0.557756   \n",
       "std        0.291186      0.153709   66537.877969    0.178999   \n",
       "min        0.000238      0.135000   73898.000000    0.070700   \n",
       "25%        0.109750      0.457000  192378.250000    0.447750   \n",
       "50%        0.358500      0.572000  223455.500000    0.557500   \n",
       "75%        0.596250      0.657250  268961.000000    0.670500   \n",
       "max        0.985000      0.956000  413578.000000    0.962000   \n",
       "\n",
       "       instrumentalness         key    liveness    loudness        mode  \\\n",
       "count        100.000000  100.000000  100.000000  100.000000  100.000000   \n",
       "mean           0.183705    5.030000    0.172352   -9.006560    0.750000   \n",
       "std            0.284099    3.471253    0.140067    3.367094    0.435194   \n",
       "min            0.000000    0.000000    0.027100  -20.935000    0.000000   \n",
       "25%            0.000187    2.000000    0.099925  -10.558500    0.750000   \n",
       "50%            0.005700    5.000000    0.118000   -8.395000    1.000000   \n",
       "75%            0.308000    8.000000    0.205750   -6.581750    1.000000   \n",
       "max            0.903000   11.000000    0.930000   -3.046000    1.000000   \n",
       "\n",
       "       speechiness       tempo  time_signature     valence  outcome  \n",
       "count   100.000000  100.000000      100.000000  100.000000    100.0  \n",
       "mean      0.052962  119.244300        3.910000    0.497036      1.0  \n",
       "std       0.058921   27.878289        0.320826    0.209467      0.0  \n",
       "min       0.024200   69.572000        3.000000    0.041000      1.0  \n",
       "25%       0.030275   99.595000        4.000000    0.356000      1.0  \n",
       "50%       0.034600  118.603000        4.000000    0.497500      1.0  \n",
       "75%       0.045125  135.230500        4.000000    0.662250      1.0  \n",
       "max       0.444000  188.965000        5.000000    0.960000      1.0  "
      ]
     },
     "execution_count": 5,
     "metadata": {},
     "output_type": "execute_result"
    }
   ],
   "source": [
    "info = df_Zoe.describe()\n",
    "info"
   ]
  },
  {
   "cell_type": "code",
   "execution_count": 6,
   "metadata": {},
   "outputs": [
    {
     "data": {
      "text/html": [
       "<div>\n",
       "<style scoped>\n",
       "    .dataframe tbody tr th:only-of-type {\n",
       "        vertical-align: middle;\n",
       "    }\n",
       "\n",
       "    .dataframe tbody tr th {\n",
       "        vertical-align: top;\n",
       "    }\n",
       "\n",
       "    .dataframe thead th {\n",
       "        text-align: right;\n",
       "    }\n",
       "</style>\n",
       "<table border=\"1\" class=\"dataframe\">\n",
       "  <thead>\n",
       "    <tr style=\"text-align: right;\">\n",
       "      <th></th>\n",
       "      <th>energy</th>\n",
       "      <th>loudness</th>\n",
       "      <th>tempo</th>\n",
       "      <th>valence</th>\n",
       "    </tr>\n",
       "  </thead>\n",
       "  <tbody>\n",
       "    <tr>\n",
       "      <th>mean</th>\n",
       "      <td>0.557756</td>\n",
       "      <td>-9.00656</td>\n",
       "      <td>119.2443</td>\n",
       "      <td>0.497036</td>\n",
       "    </tr>\n",
       "  </tbody>\n",
       "</table>\n",
       "</div>"
      ],
      "text/plain": [
       "        energy  loudness     tempo   valence\n",
       "mean  0.557756  -9.00656  119.2443  0.497036"
      ]
     },
     "execution_count": 6,
     "metadata": {},
     "output_type": "execute_result"
    }
   ],
   "source": [
    "new_info = info.drop([\"count\", \"std\", \"min\", \"25%\", \"50%\", \"75%\", \"max\"],\n",
    "                     axis=0)\n",
    "new_info2 = new_info.drop([\"acousticness\", \"danceability\", \"duration_ms\", \"instrumentalness\", \"key\", \"liveness\", \"mode\", \"speechiness\", \"time_signature\", \"outcome\"], axis=1)\n",
    "new_info2"
   ]
  },
  {
   "cell_type": "code",
   "execution_count": 23,
   "metadata": {},
   "outputs": [
    {
     "data": {
      "text/html": [
       "<div>\n",
       "<style scoped>\n",
       "    .dataframe tbody tr th:only-of-type {\n",
       "        vertical-align: middle;\n",
       "    }\n",
       "\n",
       "    .dataframe tbody tr th {\n",
       "        vertical-align: top;\n",
       "    }\n",
       "\n",
       "    .dataframe thead th {\n",
       "        text-align: right;\n",
       "    }\n",
       "</style>\n",
       "<table border=\"1\" class=\"dataframe\">\n",
       "  <thead>\n",
       "    <tr style=\"text-align: right;\">\n",
       "      <th></th>\n",
       "      <th>acousticness</th>\n",
       "      <th>danceability</th>\n",
       "      <th>duration_ms</th>\n",
       "      <th>energy</th>\n",
       "      <th>instrumentalness</th>\n",
       "      <th>key</th>\n",
       "      <th>liveness</th>\n",
       "      <th>loudness</th>\n",
       "      <th>mode</th>\n",
       "      <th>speechiness</th>\n",
       "      <th>tempo</th>\n",
       "      <th>time_signature</th>\n",
       "      <th>valence</th>\n",
       "    </tr>\n",
       "  </thead>\n",
       "  <tbody>\n",
       "    <tr>\n",
       "      <th>count</th>\n",
       "      <td>50.000000</td>\n",
       "      <td>50.000000</td>\n",
       "      <td>50.00000</td>\n",
       "      <td>50.000000</td>\n",
       "      <td>50.000000</td>\n",
       "      <td>50.000000</td>\n",
       "      <td>50.000000</td>\n",
       "      <td>50.000000</td>\n",
       "      <td>50.000000</td>\n",
       "      <td>50.000000</td>\n",
       "      <td>50.000000</td>\n",
       "      <td>50.000000</td>\n",
       "      <td>50.000000</td>\n",
       "    </tr>\n",
       "    <tr>\n",
       "      <th>mean</th>\n",
       "      <td>0.267102</td>\n",
       "      <td>0.721700</td>\n",
       "      <td>207610.56000</td>\n",
       "      <td>0.590360</td>\n",
       "      <td>0.004464</td>\n",
       "      <td>5.340000</td>\n",
       "      <td>0.167080</td>\n",
       "      <td>-6.607360</td>\n",
       "      <td>0.600000</td>\n",
       "      <td>0.128284</td>\n",
       "      <td>119.893060</td>\n",
       "      <td>3.940000</td>\n",
       "      <td>0.446680</td>\n",
       "    </tr>\n",
       "    <tr>\n",
       "      <th>std</th>\n",
       "      <td>0.233873</td>\n",
       "      <td>0.130545</td>\n",
       "      <td>42918.83498</td>\n",
       "      <td>0.173385</td>\n",
       "      <td>0.023489</td>\n",
       "      <td>3.611829</td>\n",
       "      <td>0.097771</td>\n",
       "      <td>2.727283</td>\n",
       "      <td>0.494872</td>\n",
       "      <td>0.103816</td>\n",
       "      <td>26.695707</td>\n",
       "      <td>0.239898</td>\n",
       "      <td>0.177541</td>\n",
       "    </tr>\n",
       "    <tr>\n",
       "      <th>min</th>\n",
       "      <td>0.005130</td>\n",
       "      <td>0.397000</td>\n",
       "      <td>129264.00000</td>\n",
       "      <td>0.104000</td>\n",
       "      <td>0.000000</td>\n",
       "      <td>0.000000</td>\n",
       "      <td>0.057200</td>\n",
       "      <td>-14.505000</td>\n",
       "      <td>0.000000</td>\n",
       "      <td>0.027400</td>\n",
       "      <td>74.972000</td>\n",
       "      <td>3.000000</td>\n",
       "      <td>0.111000</td>\n",
       "    </tr>\n",
       "    <tr>\n",
       "      <th>25%</th>\n",
       "      <td>0.070275</td>\n",
       "      <td>0.613250</td>\n",
       "      <td>180891.50000</td>\n",
       "      <td>0.475250</td>\n",
       "      <td>0.000000</td>\n",
       "      <td>1.250000</td>\n",
       "      <td>0.099500</td>\n",
       "      <td>-7.610500</td>\n",
       "      <td>0.000000</td>\n",
       "      <td>0.048200</td>\n",
       "      <td>97.307250</td>\n",
       "      <td>4.000000</td>\n",
       "      <td>0.338250</td>\n",
       "    </tr>\n",
       "    <tr>\n",
       "      <th>50%</th>\n",
       "      <td>0.192000</td>\n",
       "      <td>0.739000</td>\n",
       "      <td>205886.50000</td>\n",
       "      <td>0.586500</td>\n",
       "      <td>0.000000</td>\n",
       "      <td>6.000000</td>\n",
       "      <td>0.133000</td>\n",
       "      <td>-6.096500</td>\n",
       "      <td>1.000000</td>\n",
       "      <td>0.075800</td>\n",
       "      <td>117.056000</td>\n",
       "      <td>4.000000</td>\n",
       "      <td>0.414500</td>\n",
       "    </tr>\n",
       "    <tr>\n",
       "      <th>75%</th>\n",
       "      <td>0.387500</td>\n",
       "      <td>0.831250</td>\n",
       "      <td>225797.00000</td>\n",
       "      <td>0.724750</td>\n",
       "      <td>0.000008</td>\n",
       "      <td>8.000000</td>\n",
       "      <td>0.221250</td>\n",
       "      <td>-4.765500</td>\n",
       "      <td>1.000000</td>\n",
       "      <td>0.196750</td>\n",
       "      <td>139.380500</td>\n",
       "      <td>4.000000</td>\n",
       "      <td>0.558250</td>\n",
       "    </tr>\n",
       "    <tr>\n",
       "      <th>max</th>\n",
       "      <td>0.979000</td>\n",
       "      <td>0.906000</td>\n",
       "      <td>354320.00000</td>\n",
       "      <td>0.904000</td>\n",
       "      <td>0.162000</td>\n",
       "      <td>11.000000</td>\n",
       "      <td>0.552000</td>\n",
       "      <td>-2.652000</td>\n",
       "      <td>1.000000</td>\n",
       "      <td>0.384000</td>\n",
       "      <td>174.006000</td>\n",
       "      <td>4.000000</td>\n",
       "      <td>0.913000</td>\n",
       "    </tr>\n",
       "  </tbody>\n",
       "</table>\n",
       "</div>"
      ],
      "text/plain": [
       "       acousticness  danceability   duration_ms     energy  instrumentalness  \\\n",
       "count     50.000000     50.000000      50.00000  50.000000         50.000000   \n",
       "mean       0.267102      0.721700  207610.56000   0.590360          0.004464   \n",
       "std        0.233873      0.130545   42918.83498   0.173385          0.023489   \n",
       "min        0.005130      0.397000  129264.00000   0.104000          0.000000   \n",
       "25%        0.070275      0.613250  180891.50000   0.475250          0.000000   \n",
       "50%        0.192000      0.739000  205886.50000   0.586500          0.000000   \n",
       "75%        0.387500      0.831250  225797.00000   0.724750          0.000008   \n",
       "max        0.979000      0.906000  354320.00000   0.904000          0.162000   \n",
       "\n",
       "             key   liveness   loudness       mode  speechiness       tempo  \\\n",
       "count  50.000000  50.000000  50.000000  50.000000    50.000000   50.000000   \n",
       "mean    5.340000   0.167080  -6.607360   0.600000     0.128284  119.893060   \n",
       "std     3.611829   0.097771   2.727283   0.494872     0.103816   26.695707   \n",
       "min     0.000000   0.057200 -14.505000   0.000000     0.027400   74.972000   \n",
       "25%     1.250000   0.099500  -7.610500   0.000000     0.048200   97.307250   \n",
       "50%     6.000000   0.133000  -6.096500   1.000000     0.075800  117.056000   \n",
       "75%     8.000000   0.221250  -4.765500   1.000000     0.196750  139.380500   \n",
       "max    11.000000   0.552000  -2.652000   1.000000     0.384000  174.006000   \n",
       "\n",
       "       time_signature    valence  \n",
       "count       50.000000  50.000000  \n",
       "mean         3.940000   0.446680  \n",
       "std          0.239898   0.177541  \n",
       "min          3.000000   0.111000  \n",
       "25%          4.000000   0.338250  \n",
       "50%          4.000000   0.414500  \n",
       "75%          4.000000   0.558250  \n",
       "max          4.000000   0.913000  "
      ]
     },
     "execution_count": 23,
     "metadata": {},
     "output_type": "execute_result"
    }
   ],
   "source": [
    "playlist_Spotify = sp.user_playlist(\"Spotify\", \"37i9dQZEVXbMDoHDwVN2tF\")\n",
    "songs_Spotify = playlist_Spotify[\"tracks\"][\"items\"]\n",
    "ids_Spotify = []\n",
    "for i in range(len(songs_Spotify)):\n",
    "   ids_Spotify.append(songs_Spotify[i][\"track\"][\"id\"])\n",
    "features_Spotify = sp.audio_features(ids_Spotify)\n",
    "df_Spotify = pd.DataFrame(features_Spotify)\n",
    "df_Spotify.describe()"
   ]
  },
  {
   "cell_type": "code",
   "execution_count": 19,
   "metadata": {},
   "outputs": [
    {
     "name": "stderr",
     "output_type": "stream",
     "text": [
      "C:\\Users\\knkay\\anaconda\\anaconda3\\lib\\site-packages\\matplotlib\\axes\\_axes.py:6462: UserWarning: The 'normed' kwarg is deprecated, and has been replaced by the 'density' kwarg.\n",
      "  warnings.warn(\"The 'normed' kwarg is deprecated, and has been \"\n",
      "No handles with labels found to put in legend.\n"
     ]
    },
    {
     "data": {
      "image/png": "[encoded data removed]",
      "text/plain": [
       "<Figure size 432x288 with 1 Axes>"
      ]
     },
     "metadata": {},
     "output_type": "display_data"
    }
   ],
   "source": [
    "plt.plot()\n",
    "sns.distplot(df_Zoe.energy)\n",
    "plt.xlabel('Energy', fontsize=18)\n",
    "plt.legend(fontsize=12)\n",
    "\n",
    "# Incorporate the other graph properties\n",
    "# plt.title(\"City Latitude vs. Max Temperature (%s)\" % time.strftime(\"%x\"))\n",
    "# plt.ylabel(\"Max Temperature (F)\")\n",
    "# plt.xlabel(\"Latitude\")\n",
    "# plt.grid(True)\n",
    "\n",
    "# # Save the figure\n",
    "plt.savefig(\"Energy_Zoe.png\", bbox_inches='tight')\n",
    "\n",
    "# Show plot\n",
    "plt.show()"
   ]
  },
  {
   "cell_type": "code",
   "execution_count": 20,
   "metadata": {},
   "outputs": [
    {
     "name": "stderr",
     "output_type": "stream",
     "text": [
      "C:\\Users\\knkay\\anaconda\\anaconda3\\lib\\site-packages\\matplotlib\\axes\\_axes.py:6462: UserWarning: The 'normed' kwarg is deprecated, and has been replaced by the 'density' kwarg.\n",
      "  warnings.warn(\"The 'normed' kwarg is deprecated, and has been \"\n",
      "No handles with labels found to put in legend.\n"
     ]
    },
    {
     "data": {
      "image/png": "[encoded data removed]",
      "text/plain": [
       "<Figure size 432x288 with 1 Axes>"
      ]
     },
     "metadata": {},
     "output_type": "display_data"
    }
   ],
   "source": [
    "plt.subplot()\n",
    "sns.distplot(df_Zoe.loudness)\n",
    "plt.xlabel('Loudness', fontsize=18)\n",
    "plt.legend(fontsize=12)\n",
    "\n",
    "plt.savefig(\"Loudness_Zoe.png\", bbox_inches='tight')"
   ]
  },
  {
   "cell_type": "code",
   "execution_count": 21,
   "metadata": {},
   "outputs": [
    {
     "name": "stderr",
     "output_type": "stream",
     "text": [
      "C:\\Users\\knkay\\anaconda\\anaconda3\\lib\\site-packages\\matplotlib\\axes\\_axes.py:6462: UserWarning: The 'normed' kwarg is deprecated, and has been replaced by the 'density' kwarg.\n",
      "  warnings.warn(\"The 'normed' kwarg is deprecated, and has been \"\n",
      "No handles with labels found to put in legend.\n"
     ]
    },
    {
     "data": {
      "image/png": "[encoded data removed]",
      "text/plain": [
       "<Figure size 432x288 with 1 Axes>"
      ]
     },
     "metadata": {},
     "output_type": "display_data"
    }
   ],
   "source": [
    "plt.subplot()\n",
    "sns.distplot(df_Zoe.tempo)\n",
    "plt.xlabel('Tempo', fontsize=18)\n",
    "plt.legend(fontsize=12)\n",
    "\n",
    "plt.savefig(\"Tempo_Zoe.png\", bbox_inches='tight')"
   ]
  },
  {
   "cell_type": "code",
   "execution_count": 22,
   "metadata": {},
   "outputs": [
    {
     "name": "stderr",
     "output_type": "stream",
     "text": [
      "C:\\Users\\knkay\\anaconda\\anaconda3\\lib\\site-packages\\matplotlib\\axes\\_axes.py:6462: UserWarning: The 'normed' kwarg is deprecated, and has been replaced by the 'density' kwarg.\n",
      "  warnings.warn(\"The 'normed' kwarg is deprecated, and has been \"\n",
      "No handles with labels found to put in legend.\n"
     ]
    },
    {
     "data": {
      "image/png": "[encoded data removed]",
      "text/plain": [
       "<Figure size 432x288 with 1 Axes>"
      ]
     },
     "metadata": {},
     "output_type": "display_data"
    }
   ],
   "source": [
    "plt.plot()\n",
    "sns.distplot(df_Zoe.valence)\n",
    "plt.xlabel('Positivity', fontsize=18)\n",
    "plt.legend(fontsize=12)\n",
    "\n",
    "plt.savefig(\"Positivity_Zoe.png\", bbox_inches='tight')"
   ]
  },
  {
   "cell_type": "code",
   "execution_count": 11,
   "metadata": {},
   "outputs": [
    {
     "name": "stderr",
     "output_type": "stream",
     "text": [
      "C:\\Users\\knkay\\anaconda\\anaconda3\\lib\\site-packages\\matplotlib\\axes\\_axes.py:6462: UserWarning: The 'normed' kwarg is deprecated, and has been replaced by the 'density' kwarg.\n",
      "  warnings.warn(\"The 'normed' kwarg is deprecated, and has been \"\n",
      "No handles with labels found to put in legend.\n"
     ]
    },
    {
     "data": {
      "image/png": "[encoded data removed]",
      "text/plain": [
       "<Figure size 432x288 with 1 Axes>"
      ]
     },
     "metadata": {},
     "output_type": "display_data"
    }
   ],
   "source": [
    "plt.subplot()\n",
    "sns.distplot(df_Zoe.danceability)\n",
    "plt.xlabel('Danceability', fontsize=18)\n",
    "plt.legend(fontsize=12)\n",
    "\n",
    "plt.savefig(\"Dance_Zoe.png\")"
   ]
  },
  {
   "cell_type": "code",
   "execution_count": 12,
   "metadata": {},
   "outputs": [
    {
     "ename": "ModuleNotFoundError",
     "evalue": "No module named 'sklearn'",
     "output_type": "error",
     "traceback": [
      "\u001b[1;31m---------------------------------------------------------------------------\u001b[0m",
      "\u001b[1;31mModuleNotFoundError\u001b[0m                       Traceback (most recent call last)",
      "\u001b[1;32m<ipython-input-12-6a791a6f5c9c>\u001b[0m in \u001b[0;36m<module>\u001b[1;34m\u001b[0m\n\u001b[1;32m----> 1\u001b[1;33m \u001b[1;32mfrom\u001b[0m \u001b[0msklearn\u001b[0m\u001b[1;33m.\u001b[0m\u001b[0mmodel_selection\u001b[0m \u001b[1;32mimport\u001b[0m \u001b[0mtrain_test_split\u001b[0m\u001b[1;33m\u001b[0m\u001b[1;33m\u001b[0m\u001b[0m\n\u001b[0m\u001b[0;32m      2\u001b[0m \u001b[0mX_train_Zoe\u001b[0m\u001b[1;33m,\u001b[0m \u001b[0mX_test_Zoe\u001b[0m\u001b[1;33m,\u001b[0m \u001b[0my_train_Zoe\u001b[0m\u001b[1;33m,\u001b[0m \u001b[0my_test_Zoe\u001b[0m \u001b[1;33m=\u001b[0m \u001b[0mtrain_test_split\u001b[0m\u001b[1;33m(\u001b[0m\u001b[0mdf_Zoe\u001b[0m\u001b[1;33m,\u001b[0m \u001b[0mtarget_Zoe\u001b[0m\u001b[1;33m,\u001b[0m \u001b[0mrandom_state\u001b[0m\u001b[1;33m=\u001b[0m\u001b[1;36m42\u001b[0m\u001b[1;33m)\u001b[0m\u001b[1;33m\u001b[0m\u001b[1;33m\u001b[0m\u001b[0m\n\u001b[0;32m      3\u001b[0m \u001b[0mX_train_Mamta\u001b[0m\u001b[1;33m,\u001b[0m \u001b[0mX_test_Mamta\u001b[0m\u001b[1;33m,\u001b[0m \u001b[0my_train_Mamta\u001b[0m\u001b[1;33m,\u001b[0m \u001b[0my_test_Mamta\u001b[0m \u001b[1;33m=\u001b[0m \u001b[0mtrain_test_split\u001b[0m\u001b[1;33m(\u001b[0m\u001b[0mdf_Mamta\u001b[0m\u001b[1;33m,\u001b[0m \u001b[0mtarget_Mamta\u001b[0m\u001b[1;33m,\u001b[0m \u001b[0mrandom_state\u001b[0m\u001b[1;33m=\u001b[0m\u001b[1;36m42\u001b[0m\u001b[1;33m)\u001b[0m\u001b[1;33m\u001b[0m\u001b[1;33m\u001b[0m\u001b[0m\n\u001b[0;32m      4\u001b[0m \u001b[0mX_train_Kelly\u001b[0m\u001b[1;33m,\u001b[0m \u001b[0mX_test_Kelly\u001b[0m\u001b[1;33m,\u001b[0m \u001b[0my_train_Kelly\u001b[0m\u001b[1;33m,\u001b[0m \u001b[0my_test_Kelly\u001b[0m \u001b[1;33m=\u001b[0m \u001b[0mtrain_test_split\u001b[0m\u001b[1;33m(\u001b[0m\u001b[0mdf_Kelly\u001b[0m\u001b[1;33m,\u001b[0m \u001b[0mtarget_Kelly\u001b[0m\u001b[1;33m,\u001b[0m \u001b[0mrandom_state\u001b[0m\u001b[1;33m=\u001b[0m\u001b[1;36m42\u001b[0m\u001b[1;33m)\u001b[0m\u001b[1;33m\u001b[0m\u001b[1;33m\u001b[0m\u001b[0m\n",
      "\u001b[1;31mModuleNotFoundError\u001b[0m: No module named 'sklearn'"
     ]
    }
   ],
   "source": [
    "from sklearn.model_selection import train_test_split\n",
    "X_train_Zoe, X_test_Zoe, y_train_Zoe, y_test_Zoe = train_test_split(df_Zoe, target_Zoe, random_state=42)\n",
    "X_train_Mamta, X_test_Mamta, y_train_Mamta, y_test_Mamta = train_test_split(df_Mamta, target_Mamta, random_state=42)\n",
    "X_train_Kelly, X_test_Kelly, y_train_Kelly, y_test_Kelly = train_test_split(df_Kelly, target_Kelly, random_state=42)"
   ]
  },
  {
   "cell_type": "code",
   "execution_count": 4,
   "metadata": {},
   "outputs": [
    {
     "ename": "ModuleNotFoundError",
     "evalue": "No module named 'sklearn'",
     "output_type": "error",
     "traceback": [
      "\u001b[1;31m---------------------------------------------------------------------------\u001b[0m",
      "\u001b[1;31mModuleNotFoundError\u001b[0m                       Traceback (most recent call last)",
      "\u001b[1;32m<ipython-input-4-160807926df8>\u001b[0m in \u001b[0;36m<module>\u001b[1;34m\u001b[0m\n\u001b[1;32m----> 1\u001b[1;33m \u001b[1;32mfrom\u001b[0m \u001b[0msklearn\u001b[0m\u001b[1;33m.\u001b[0m\u001b[0mensemble\u001b[0m \u001b[1;32mimport\u001b[0m \u001b[0mRandomForestClassifier\u001b[0m\u001b[1;33m\u001b[0m\u001b[1;33m\u001b[0m\u001b[0m\n\u001b[0m\u001b[0;32m      2\u001b[0m \u001b[0mrf\u001b[0m \u001b[1;33m=\u001b[0m \u001b[0mRandomForestClassifier\u001b[0m\u001b[1;33m(\u001b[0m\u001b[0mn_estimators\u001b[0m\u001b[1;33m=\u001b[0m\u001b[1;36m100\u001b[0m\u001b[1;33m)\u001b[0m\u001b[1;33m\u001b[0m\u001b[1;33m\u001b[0m\u001b[0m\n\u001b[0;32m      3\u001b[0m \u001b[0mrf\u001b[0m \u001b[1;33m=\u001b[0m \u001b[0mrf\u001b[0m\u001b[1;33m.\u001b[0m\u001b[0mfit\u001b[0m\u001b[1;33m(\u001b[0m\u001b[0mdf_Kelly\u001b[0m\u001b[1;33m.\u001b[0m\u001b[0mdata\u001b[0m\u001b[1;33m,\u001b[0m \u001b[0mdf_Kelly\u001b[0m\u001b[1;33m.\u001b[0m\u001b[0mtarget\u001b[0m\u001b[1;33m)\u001b[0m\u001b[1;33m\u001b[0m\u001b[1;33m\u001b[0m\u001b[0m\n\u001b[0;32m      4\u001b[0m \u001b[0mrf\u001b[0m\u001b[1;33m.\u001b[0m\u001b[0mscore\u001b[0m\u001b[1;33m(\u001b[0m\u001b[0mdf_Kelly\u001b[0m\u001b[1;33m.\u001b[0m\u001b[0mdata\u001b[0m\u001b[1;33m,\u001b[0m \u001b[0mdf_Kelly\u001b[0m\u001b[1;33m.\u001b[0m\u001b[0mtarget\u001b[0m\u001b[1;33m)\u001b[0m\u001b[1;33m\u001b[0m\u001b[1;33m\u001b[0m\u001b[0m\n",
      "\u001b[1;31mModuleNotFoundError\u001b[0m: No module named 'sklearn'"
     ]
    }
   ],
   "source": [
    "from sklearn.ensemble import RandomForestClassifier\n",
    "rf = RandomForestClassifier(n_estimators=200)\n",
    "rf_Zoe = rf.fit(X_train_Zoe, y_train_Zoe)\n",
    "rf_Zoe.score(X_test_Zoe, y_test_Zoe)"
   ]
  },
  {
   "cell_type": "code",
   "execution_count": 5,
   "metadata": {},
   "outputs": [
    {
     "ename": "NameError",
     "evalue": "name 'rf' is not defined",
     "output_type": "error",
     "traceback": [
      "\u001b[1;31m---------------------------------------------------------------------------\u001b[0m",
      "\u001b[1;31mNameError\u001b[0m                                 Traceback (most recent call last)",
      "\u001b[1;32m<ipython-input-5-67b345e3d4c5>\u001b[0m in \u001b[0;36m<module>\u001b[1;34m\u001b[0m\n\u001b[1;32m----> 1\u001b[1;33m \u001b[0mimportances\u001b[0m \u001b[1;33m=\u001b[0m \u001b[0mrf\u001b[0m\u001b[1;33m.\u001b[0m\u001b[0mfeature_importances_\u001b[0m\u001b[1;33m\u001b[0m\u001b[1;33m\u001b[0m\u001b[0m\n\u001b[0m\u001b[0;32m      2\u001b[0m \u001b[0mimportances\u001b[0m\u001b[1;33m\u001b[0m\u001b[1;33m\u001b[0m\u001b[0m\n",
      "\u001b[1;31mNameError\u001b[0m: name 'rf' is not defined"
     ]
    }
   ],
   "source": [
    "importances = rf_Zoe.feature_importances_\n",
    "importances"
   ]
  },
  {
   "cell_type": "code",
   "execution_count": 6,
   "metadata": {},
   "outputs": [
    {
     "ename": "NameError",
     "evalue": "name 'rf' is not defined",
     "output_type": "error",
     "traceback": [
      "\u001b[1;31m---------------------------------------------------------------------------\u001b[0m",
      "\u001b[1;31mNameError\u001b[0m                                 Traceback (most recent call last)",
      "\u001b[1;32m<ipython-input-6-a0314edca135>\u001b[0m in \u001b[0;36m<module>\u001b[1;34m\u001b[0m\n\u001b[1;32m----> 1\u001b[1;33m \u001b[0msorted\u001b[0m\u001b[1;33m(\u001b[0m\u001b[0mzip\u001b[0m\u001b[1;33m(\u001b[0m\u001b[0mrf\u001b[0m\u001b[1;33m.\u001b[0m\u001b[0mfeature_importances_\u001b[0m\u001b[1;33m,\u001b[0m \u001b[0miris\u001b[0m\u001b[1;33m.\u001b[0m\u001b[0mfeature_names\u001b[0m\u001b[1;33m)\u001b[0m\u001b[1;33m,\u001b[0m \u001b[0mreverse\u001b[0m\u001b[1;33m=\u001b[0m\u001b[1;32mTrue\u001b[0m\u001b[1;33m)\u001b[0m\u001b[1;33m\u001b[0m\u001b[1;33m\u001b[0m\u001b[0m\n\u001b[0m",
      "\u001b[1;31mNameError\u001b[0m: name 'rf' is not defined"
     ]
    }
   ],
   "source": [
    "sorted(zip(rf_Zoe.feature_importances_, feature_names), reverse=True)"
   ]
  },
  {
   "cell_type": "code",
   "execution_count": null,
   "metadata": {},
   "outputs": [],
   "source": []
  }
 ],
 "metadata": {
  "kernelspec": {
   "display_name": "Python [conda env:anaconda3]",
   "language": "python",
   "name": "conda-env-anaconda3-py"
  },
  "language_info": {
   "codemirror_mode": {
    "name": "ipython",
    "version": 3
   },
   "file_extension": ".py",
   "mimetype": "text/x-python",
   "name": "python",
   "nbconvert_exporter": "python",
   "pygments_lexer": "ipython3",
   "version": "3.6.5"
  }
 },
 "nbformat": 4,
 "nbformat_minor": 2
}
