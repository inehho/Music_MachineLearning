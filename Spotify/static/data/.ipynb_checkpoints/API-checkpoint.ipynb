{
 "cells": [
  {
   "cell_type": "code",
   "execution_count": 1,
   "metadata": {},
   "outputs": [],
   "source": [
    "import pandas as pd\n",
    "import spotipy\n",
    "sp = spotipy.Spotify()\n",
    "from spotipy.oauth2 import SpotifyClientCredentials\n",
    "cid =\"fd0d61f83f63494db11ef5f80c4448a4\"\n",
    "secret = \"829d69e9109d4783b82b808ea03f9ee7\"\n",
    "client_credentials_manager = SpotifyClientCredentials(client_id=cid, client_secret=secret)\n",
    "sp = spotipy.Spotify(client_credentials_manager=client_credentials_manager)\n",
    "sp.trace=False"
   ]
  },
  {
   "cell_type": "code",
   "execution_count": 3,
   "metadata": {},
   "outputs": [],
   "source": [
    "user_info = [{\"user\": \"Zoe\", \"playlist_id\": \"37i9dQZF1Eje771Dj6R4Uy\"}, {\"user\": \"Mamta\", \"playlist_id\": \"37i9dQZF1Ejvvyo8JT8iW6\"}, {\"user\": \"Kelly\", \"playlist_id\": \"37i9dQZF1EjhjDiEazJ7Zw\"}]\n",
    "\n",
    "for user in user_info:\n",
    "    playlist = sp.user_playlist(user[\"user\"], user[\"playlist_id\"])\n",
    "    songs = playlist[\"tracks\"][\"items\"]\n",
    "    ids = []\n",
    "    for i in range(len(songs)):\n",
    "       ids.append(songs[i][\"track\"][\"id\"])\n",
    "    features = sp.audio_features(ids)\n",
    "    if user[\"user\"] == \"Zoe\":\n",
    "        df_Zoe = pd.DataFrame(features)\n",
    "        df_Zoe[\"outcome\"] = 1\n",
    "    elif user[\"user\"] == \"Mamta\":\n",
    "        df_Mamta = pd.DataFrame(features)\n",
    "        df_Mamta[\"outcome\"] = 1\n",
    "    else:\n",
    "        df_Kelly = pd.DataFrame(features)\n",
    "        df_Kelly[\"outcome\"] = 1\n",
    "    "
   ]
  },
  {
   "cell_type": "code",
   "execution_count": 9,
   "metadata": {},
   "outputs": [
    {
     "data": {
      "text/html": [
       "<div>\n",
       "<style scoped>\n",
       "    .dataframe tbody tr th:only-of-type {\n",
       "        vertical-align: middle;\n",
       "    }\n",
       "\n",
       "    .dataframe tbody tr th {\n",
       "        vertical-align: top;\n",
       "    }\n",
       "\n",
       "    .dataframe thead th {\n",
       "        text-align: right;\n",
       "    }\n",
       "</style>\n",
       "<table border=\"1\" class=\"dataframe\">\n",
       "  <thead>\n",
       "    <tr style=\"text-align: right;\">\n",
       "      <th></th>\n",
       "      <th>acousticness</th>\n",
       "      <th>analysis_url</th>\n",
       "      <th>danceability</th>\n",
       "      <th>duration_ms</th>\n",
       "      <th>energy</th>\n",
       "      <th>id</th>\n",
       "      <th>instrumentalness</th>\n",
       "      <th>key</th>\n",
       "      <th>liveness</th>\n",
       "      <th>loudness</th>\n",
       "      <th>mode</th>\n",
       "      <th>speechiness</th>\n",
       "      <th>tempo</th>\n",
       "      <th>time_signature</th>\n",
       "      <th>track_href</th>\n",
       "      <th>type</th>\n",
       "      <th>uri</th>\n",
       "      <th>valence</th>\n",
       "    </tr>\n",
       "  </thead>\n",
       "  <tbody>\n",
       "    <tr>\n",
       "      <th>0</th>\n",
       "      <td>0.00189</td>\n",
       "      <td>https://api.spotify.com/v1/audio-analysis/2HiH...</td>\n",
       "      <td>0.628</td>\n",
       "      <td>228169</td>\n",
       "      <td>0.877</td>\n",
       "      <td>2HiH7eMk9aokfnIEFzWiMq</td>\n",
       "      <td>0.000000</td>\n",
       "      <td>10</td>\n",
       "      <td>0.2280</td>\n",
       "      <td>-3.016</td>\n",
       "      <td>0</td>\n",
       "      <td>0.0410</td>\n",
       "      <td>142.034</td>\n",
       "      <td>4</td>\n",
       "      <td>https://api.spotify.com/v1/tracks/2HiH7eMk9aok...</td>\n",
       "      <td>audio_features</td>\n",
       "      <td>spotify:track:2HiH7eMk9aokfnIEFzWiMq</td>\n",
       "      <td>0.199</td>\n",
       "    </tr>\n",
       "    <tr>\n",
       "      <th>1</th>\n",
       "      <td>0.13200</td>\n",
       "      <td>https://api.spotify.com/v1/audio-analysis/4rCK...</td>\n",
       "      <td>0.698</td>\n",
       "      <td>165391</td>\n",
       "      <td>0.542</td>\n",
       "      <td>4rCKRVJZKVysScn2piDuOT</td>\n",
       "      <td>0.001170</td>\n",
       "      <td>2</td>\n",
       "      <td>0.1990</td>\n",
       "      <td>-4.317</td>\n",
       "      <td>1</td>\n",
       "      <td>0.1310</td>\n",
       "      <td>140.096</td>\n",
       "      <td>4</td>\n",
       "      <td>https://api.spotify.com/v1/tracks/4rCKRVJZKVys...</td>\n",
       "      <td>audio_features</td>\n",
       "      <td>spotify:track:4rCKRVJZKVysScn2piDuOT</td>\n",
       "      <td>0.664</td>\n",
       "    </tr>\n",
       "    <tr>\n",
       "      <th>2</th>\n",
       "      <td>0.06910</td>\n",
       "      <td>https://api.spotify.com/v1/audio-analysis/25sg...</td>\n",
       "      <td>0.719</td>\n",
       "      <td>187436</td>\n",
       "      <td>0.704</td>\n",
       "      <td>25sgk305KZfyuqVBQIahim</td>\n",
       "      <td>0.000000</td>\n",
       "      <td>1</td>\n",
       "      <td>0.1660</td>\n",
       "      <td>-4.724</td>\n",
       "      <td>1</td>\n",
       "      <td>0.0476</td>\n",
       "      <td>133.002</td>\n",
       "      <td>4</td>\n",
       "      <td>https://api.spotify.com/v1/tracks/25sgk305KZfy...</td>\n",
       "      <td>audio_features</td>\n",
       "      <td>spotify:track:25sgk305KZfyuqVBQIahim</td>\n",
       "      <td>0.628</td>\n",
       "    </tr>\n",
       "    <tr>\n",
       "      <th>3</th>\n",
       "      <td>0.00114</td>\n",
       "      <td>https://api.spotify.com/v1/audio-analysis/0i5Q...</td>\n",
       "      <td>0.541</td>\n",
       "      <td>198600</td>\n",
       "      <td>0.616</td>\n",
       "      <td>0i5QVxsK3IvEDbUjTA64Li</td>\n",
       "      <td>0.000001</td>\n",
       "      <td>0</td>\n",
       "      <td>0.1510</td>\n",
       "      <td>-6.530</td>\n",
       "      <td>1</td>\n",
       "      <td>0.0280</td>\n",
       "      <td>144.218</td>\n",
       "      <td>4</td>\n",
       "      <td>https://api.spotify.com/v1/tracks/0i5QVxsK3IvE...</td>\n",
       "      <td>audio_features</td>\n",
       "      <td>spotify:track:0i5QVxsK3IvEDbUjTA64Li</td>\n",
       "      <td>0.203</td>\n",
       "    </tr>\n",
       "    <tr>\n",
       "      <th>4</th>\n",
       "      <td>0.04700</td>\n",
       "      <td>https://api.spotify.com/v1/audio-analysis/29jt...</td>\n",
       "      <td>0.595</td>\n",
       "      <td>223640</td>\n",
       "      <td>0.723</td>\n",
       "      <td>29jtZGdgpE2lWm2mkIt6HS</td>\n",
       "      <td>0.028600</td>\n",
       "      <td>7</td>\n",
       "      <td>0.0995</td>\n",
       "      <td>-8.256</td>\n",
       "      <td>1</td>\n",
       "      <td>0.0349</td>\n",
       "      <td>108.043</td>\n",
       "      <td>1</td>\n",
       "      <td>https://api.spotify.com/v1/tracks/29jtZGdgpE2l...</td>\n",
       "      <td>audio_features</td>\n",
       "      <td>spotify:track:29jtZGdgpE2lWm2mkIt6HS</td>\n",
       "      <td>0.272</td>\n",
       "    </tr>\n",
       "  </tbody>\n",
       "</table>\n",
       "</div>"
      ],
      "text/plain": [
       "   acousticness                                       analysis_url  \\\n",
       "0       0.00189  https://api.spotify.com/v1/audio-analysis/2HiH...   \n",
       "1       0.13200  https://api.spotify.com/v1/audio-analysis/4rCK...   \n",
       "2       0.06910  https://api.spotify.com/v1/audio-analysis/25sg...   \n",
       "3       0.00114  https://api.spotify.com/v1/audio-analysis/0i5Q...   \n",
       "4       0.04700  https://api.spotify.com/v1/audio-analysis/29jt...   \n",
       "\n",
       "   danceability  duration_ms  energy                      id  \\\n",
       "0         0.628       228169   0.877  2HiH7eMk9aokfnIEFzWiMq   \n",
       "1         0.698       165391   0.542  4rCKRVJZKVysScn2piDuOT   \n",
       "2         0.719       187436   0.704  25sgk305KZfyuqVBQIahim   \n",
       "3         0.541       198600   0.616  0i5QVxsK3IvEDbUjTA64Li   \n",
       "4         0.595       223640   0.723  29jtZGdgpE2lWm2mkIt6HS   \n",
       "\n",
       "   instrumentalness  key  liveness  loudness  mode  speechiness    tempo  \\\n",
       "0          0.000000   10    0.2280    -3.016     0       0.0410  142.034   \n",
       "1          0.001170    2    0.1990    -4.317     1       0.1310  140.096   \n",
       "2          0.000000    1    0.1660    -4.724     1       0.0476  133.002   \n",
       "3          0.000001    0    0.1510    -6.530     1       0.0280  144.218   \n",
       "4          0.028600    7    0.0995    -8.256     1       0.0349  108.043   \n",
       "\n",
       "   time_signature                                         track_href  \\\n",
       "0               4  https://api.spotify.com/v1/tracks/2HiH7eMk9aok...   \n",
       "1               4  https://api.spotify.com/v1/tracks/4rCKRVJZKVys...   \n",
       "2               4  https://api.spotify.com/v1/tracks/25sgk305KZfy...   \n",
       "3               4  https://api.spotify.com/v1/tracks/0i5QVxsK3IvE...   \n",
       "4               1  https://api.spotify.com/v1/tracks/29jtZGdgpE2l...   \n",
       "\n",
       "             type                                   uri  valence  \n",
       "0  audio_features  spotify:track:2HiH7eMk9aokfnIEFzWiMq    0.199  \n",
       "1  audio_features  spotify:track:4rCKRVJZKVysScn2piDuOT    0.664  \n",
       "2  audio_features  spotify:track:25sgk305KZfyuqVBQIahim    0.628  \n",
       "3  audio_features  spotify:track:0i5QVxsK3IvEDbUjTA64Li    0.203  \n",
       "4  audio_features  spotify:track:29jtZGdgpE2lWm2mkIt6HS    0.272  "
      ]
     },
     "execution_count": 9,
     "metadata": {},
     "output_type": "execute_result"
    }
   ],
   "source": [
    "# df_Zoe.head()\n",
    "# df_Mamta.head()\n",
    "df_Kelly.head()"
   ]
  },
  {
   "cell_type": "code",
   "execution_count": null,
   "metadata": {},
   "outputs": [],
   "source": [
    "from sklearn.model_selection import train_test_split\n",
    "X_train, X_test, y_train, y_test = train_test_split(df_Zoe, target, random_state=42)"
   ]
  },
  {
   "cell_type": "code",
   "execution_count": 4,
   "metadata": {},
   "outputs": [
    {
     "ename": "ModuleNotFoundError",
     "evalue": "No module named 'sklearn'",
     "output_type": "error",
     "traceback": [
      "\u001b[1;31m---------------------------------------------------------------------------\u001b[0m",
      "\u001b[1;31mModuleNotFoundError\u001b[0m                       Traceback (most recent call last)",
      "\u001b[1;32m<ipython-input-4-160807926df8>\u001b[0m in \u001b[0;36m<module>\u001b[1;34m\u001b[0m\n\u001b[1;32m----> 1\u001b[1;33m \u001b[1;32mfrom\u001b[0m \u001b[0msklearn\u001b[0m\u001b[1;33m.\u001b[0m\u001b[0mensemble\u001b[0m \u001b[1;32mimport\u001b[0m \u001b[0mRandomForestClassifier\u001b[0m\u001b[1;33m\u001b[0m\u001b[1;33m\u001b[0m\u001b[0m\n\u001b[0m\u001b[0;32m      2\u001b[0m \u001b[0mrf\u001b[0m \u001b[1;33m=\u001b[0m \u001b[0mRandomForestClassifier\u001b[0m\u001b[1;33m(\u001b[0m\u001b[0mn_estimators\u001b[0m\u001b[1;33m=\u001b[0m\u001b[1;36m100\u001b[0m\u001b[1;33m)\u001b[0m\u001b[1;33m\u001b[0m\u001b[1;33m\u001b[0m\u001b[0m\n\u001b[0;32m      3\u001b[0m \u001b[0mrf\u001b[0m \u001b[1;33m=\u001b[0m \u001b[0mrf\u001b[0m\u001b[1;33m.\u001b[0m\u001b[0mfit\u001b[0m\u001b[1;33m(\u001b[0m\u001b[0mdf_Kelly\u001b[0m\u001b[1;33m.\u001b[0m\u001b[0mdata\u001b[0m\u001b[1;33m,\u001b[0m \u001b[0mdf_Kelly\u001b[0m\u001b[1;33m.\u001b[0m\u001b[0mtarget\u001b[0m\u001b[1;33m)\u001b[0m\u001b[1;33m\u001b[0m\u001b[1;33m\u001b[0m\u001b[0m\n\u001b[0;32m      4\u001b[0m \u001b[0mrf\u001b[0m\u001b[1;33m.\u001b[0m\u001b[0mscore\u001b[0m\u001b[1;33m(\u001b[0m\u001b[0mdf_Kelly\u001b[0m\u001b[1;33m.\u001b[0m\u001b[0mdata\u001b[0m\u001b[1;33m,\u001b[0m \u001b[0mdf_Kelly\u001b[0m\u001b[1;33m.\u001b[0m\u001b[0mtarget\u001b[0m\u001b[1;33m)\u001b[0m\u001b[1;33m\u001b[0m\u001b[1;33m\u001b[0m\u001b[0m\n",
      "\u001b[1;31mModuleNotFoundError\u001b[0m: No module named 'sklearn'"
     ]
    }
   ],
   "source": [
    "from sklearn.ensemble import RandomForestClassifier\n",
    "rf = RandomForestClassifier(n_estimators=100)\n",
    "rf = rf.fit(df_Kelly.data, df_Kelly.target)\n",
    "rf.score(df_Kelly.data, df_Kelly.target)"
   ]
  },
  {
   "cell_type": "code",
   "execution_count": 5,
   "metadata": {},
   "outputs": [
    {
     "ename": "NameError",
     "evalue": "name 'rf' is not defined",
     "output_type": "error",
     "traceback": [
      "\u001b[1;31m---------------------------------------------------------------------------\u001b[0m",
      "\u001b[1;31mNameError\u001b[0m                                 Traceback (most recent call last)",
      "\u001b[1;32m<ipython-input-5-67b345e3d4c5>\u001b[0m in \u001b[0;36m<module>\u001b[1;34m\u001b[0m\n\u001b[1;32m----> 1\u001b[1;33m \u001b[0mimportances\u001b[0m \u001b[1;33m=\u001b[0m \u001b[0mrf\u001b[0m\u001b[1;33m.\u001b[0m\u001b[0mfeature_importances_\u001b[0m\u001b[1;33m\u001b[0m\u001b[1;33m\u001b[0m\u001b[0m\n\u001b[0m\u001b[0;32m      2\u001b[0m \u001b[0mimportances\u001b[0m\u001b[1;33m\u001b[0m\u001b[1;33m\u001b[0m\u001b[0m\n",
      "\u001b[1;31mNameError\u001b[0m: name 'rf' is not defined"
     ]
    }
   ],
   "source": [
    "importances = rf.feature_importances_\n",
    "importances"
   ]
  },
  {
   "cell_type": "code",
   "execution_count": 6,
   "metadata": {},
   "outputs": [
    {
     "ename": "NameError",
     "evalue": "name 'rf' is not defined",
     "output_type": "error",
     "traceback": [
      "\u001b[1;31m---------------------------------------------------------------------------\u001b[0m",
      "\u001b[1;31mNameError\u001b[0m                                 Traceback (most recent call last)",
      "\u001b[1;32m<ipython-input-6-a0314edca135>\u001b[0m in \u001b[0;36m<module>\u001b[1;34m\u001b[0m\n\u001b[1;32m----> 1\u001b[1;33m \u001b[0msorted\u001b[0m\u001b[1;33m(\u001b[0m\u001b[0mzip\u001b[0m\u001b[1;33m(\u001b[0m\u001b[0mrf\u001b[0m\u001b[1;33m.\u001b[0m\u001b[0mfeature_importances_\u001b[0m\u001b[1;33m,\u001b[0m \u001b[0miris\u001b[0m\u001b[1;33m.\u001b[0m\u001b[0mfeature_names\u001b[0m\u001b[1;33m)\u001b[0m\u001b[1;33m,\u001b[0m \u001b[0mreverse\u001b[0m\u001b[1;33m=\u001b[0m\u001b[1;32mTrue\u001b[0m\u001b[1;33m)\u001b[0m\u001b[1;33m\u001b[0m\u001b[1;33m\u001b[0m\u001b[0m\n\u001b[0m",
      "\u001b[1;31mNameError\u001b[0m: name 'rf' is not defined"
     ]
    }
   ],
   "source": [
    "sorted(zip(rf.feature_importances_, iris.feature_names), reverse=True)"
   ]
  },
  {
   "cell_type": "code",
   "execution_count": null,
   "metadata": {},
   "outputs": [],
   "source": []
  }
 ],
 "metadata": {
  "kernelspec": {
   "display_name": "Python [conda env:Spotify]",
   "language": "python",
   "name": "conda-env-Spotify-py"
  },
  "language_info": {
   "codemirror_mode": {
    "name": "ipython",
    "version": 3
   },
   "file_extension": ".py",
   "mimetype": "text/x-python",
   "name": "python",
   "nbconvert_exporter": "python",
   "pygments_lexer": "ipython3",
   "version": "3.6.8"
  }
 },
 "nbformat": 4,
 "nbformat_minor": 2
}
