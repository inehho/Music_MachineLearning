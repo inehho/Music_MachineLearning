{
 "cells": [
  {
   "cell_type": "code",
   "execution_count": 1,
   "metadata": {},
   "outputs": [],
   "source": [
    "import pandas as pd\n",
    "import spotipy\n",
    "sp = spotipy.Spotify()\n",
    "from spotipy.oauth2 import SpotifyClientCredentials\n",
    "cid =\"fd0d61f83f63494db11ef5f80c4448a4\"\n",
    "secret = \"829d69e9109d4783b82b808ea03f9ee7\"\n",
    "client_credentials_manager = SpotifyClientCredentials(client_id=cid, client_secret=secret)\n",
    "sp = spotipy.Spotify(client_credentials_manager=client_credentials_manager)\n",
    "sp.trace=False"
   ]
  },
  {
   "cell_type": "code",
   "execution_count": 2,
   "metadata": {},
   "outputs": [],
   "source": [
    "user_info = [{\"user\": \"Zoe\", \"playlist_id\": \"37i9dQZF1Eje771Dj6R4Uy\"}, {\"user\": \"Mamta\", \"playlist_id\": \"37i9dQZF1Ejvvyo8JT8iW6\"}, {\"user\": \"Kelly\", \"playlist_id\": \"37i9dQZF1EjhjDiEazJ7Zw\"}]\n",
    "\n",
    "for user in user_info:\n",
    "    playlist = sp.user_playlist(user[\"user\"], user[\"playlist_id\"])\n",
    "    songs = playlist[\"tracks\"][\"items\"]\n",
    "    ids = []\n",
    "    for i in range(len(songs)):\n",
    "       ids.append(songs[i][\"track\"][\"id\"])\n",
    "    features = sp.audio_features(ids)\n",
    "    if user[\"user\"] == \"Zoe\":\n",
    "        df_Zoe = pd.DataFrame(features)\n",
    "        df_Zoe[\"outcome\"] = 1\n",
    "        target_Zoe = df_Zoe[\"outcome\"]\n",
    "    elif user[\"user\"] == \"Mamta\":\n",
    "        df_Mamta = pd.DataFrame(features)\n",
    "        df_Mamta[\"outcome\"] = 1\n",
    "        target_Mamta = df_Mamta[\"outcome\"]\n",
    "    else:\n",
    "        df_Kelly = pd.DataFrame(features)\n",
    "        df_Kelly[\"outcome\"] = 1\n",
    "        target_Kelly = df_Kelly[\"outcome\"]\n",
    "    "
   ]
  },
  {
   "cell_type": "code",
   "execution_count": 9,
   "metadata": {},
   "outputs": [
    {
     "data": {
      "text/plain": [
       "0     1\n",
       "1     1\n",
       "2     1\n",
       "3     1\n",
       "4     1\n",
       "5     1\n",
       "6     1\n",
       "7     1\n",
       "8     1\n",
       "9     1\n",
       "10    1\n",
       "11    1\n",
       "12    1\n",
       "13    1\n",
       "14    1\n",
       "15    1\n",
       "16    1\n",
       "17    1\n",
       "18    1\n",
       "19    1\n",
       "20    1\n",
       "21    1\n",
       "22    1\n",
       "23    1\n",
       "24    1\n",
       "25    1\n",
       "26    1\n",
       "27    1\n",
       "28    1\n",
       "29    1\n",
       "     ..\n",
       "70    1\n",
       "71    1\n",
       "72    1\n",
       "73    1\n",
       "74    1\n",
       "75    1\n",
       "76    1\n",
       "77    1\n",
       "78    1\n",
       "79    1\n",
       "80    1\n",
       "81    1\n",
       "82    1\n",
       "83    1\n",
       "84    1\n",
       "85    1\n",
       "86    1\n",
       "87    1\n",
       "88    1\n",
       "89    1\n",
       "90    1\n",
       "91    1\n",
       "92    1\n",
       "93    1\n",
       "94    1\n",
       "95    1\n",
       "96    1\n",
       "97    1\n",
       "98    1\n",
       "99    1\n",
       "Name: outcome, Length: 100, dtype: int64"
      ]
     },
     "execution_count": 9,
     "metadata": {},
     "output_type": "execute_result"
    }
   ],
   "source": [
    "# df_Zoe.head()\n",
    "# df_Mamta.head()\n",
    "# df_Kelly.head()\n",
    "target_Zoe"
   ]
  },
  {
   "cell_type": "code",
   "execution_count": 18,
   "metadata": {},
   "outputs": [],
   "source": [
    "from sklearn.model_selection import train_test_split\n",
    "features = [\"danceability\", \"loudness\", \"valence\", \"energy\", \"instrumentalness\", \"acousticness\", \"key\", \"speechiness\", \"duration_ms\"]\n",
    "train_Zoe, test_Zoe = train_test_split(df_Zoe, test_size = 0.25)\n",
    "X_train_Zoe = train_Zoe[features]\n",
    "y_train_Zoe = train_Zoe[\"outcome\"]\n",
    "X_test_Zoe = test_Zoe[features]\n",
    "y_test_Zoe = test_Zoe[\"outcome\"]\n",
    "train_Mamta, test_Mamta = train_test_split(df_Mamta, test_size = 0.25)\n",
    "X_train_Mamta = train_Mamta[features]\n",
    "y_train_Mamta = train_Mamta[\"outcome\"]\n",
    "X_test_Mamta = test_Mamta[features]\n",
    "y_test_Mamta = test_Mamta[\"outcome\"]\n",
    "train_Kelly, test_Kelly = train_test_split(df_Kelly, test_size = 0.25)\n",
    "X_train_Kelly = train_Kelly[features]\n",
    "y_train_Kelly = train_Kelly[\"outcome\"]\n",
    "X_test_Kelly = test_Kelly[features]\n",
    "y_test_Kelly = test_Kelly[\"outcome\"]"
   ]
  },
  {
   "cell_type": "code",
   "execution_count": 19,
   "metadata": {},
   "outputs": [
    {
     "data": {
      "text/plain": [
       "1.0"
      ]
     },
     "execution_count": 19,
     "metadata": {},
     "output_type": "execute_result"
    }
   ],
   "source": [
    "from sklearn.ensemble import RandomForestClassifier\n",
    "rf = RandomForestClassifier(n_estimators=200)\n",
    "rf_Zoe = rf.fit(X_train_Zoe, y_train_Zoe)\n",
    "rf_Zoe.score(X_test_Zoe, y_test_Zoe)\n",
    "rf_Mamta = rf.fit(X_train_Mamta, y_train_Mamta)\n",
    "rf_Mamta.score(X_test_Mamta, y_test_Mamta)\n",
    "rf_Kelly = rf.fit(X_train_Kelly, y_train_Kelly)\n",
    "rf_Kelly.score(X_test_Kelly, y_test_Kelly)"
   ]
  },
  {
   "cell_type": "code",
   "execution_count": 20,
   "metadata": {},
   "outputs": [],
   "source": [
    "importances_Zoe = rf_Zoe.feature_importances_\n",
    "importances_Mamta = rf_Mamta.feature_importances_\n",
    "importances_Kelly = rf_Kelly.feature_importances_"
   ]
  },
  {
   "cell_type": "code",
   "execution_count": 21,
   "metadata": {},
   "outputs": [
    {
     "data": {
      "text/plain": [
       "[(0.0, 'valence'),\n",
       " (0.0, 'speechiness'),\n",
       " (0.0, 'loudness'),\n",
       " (0.0, 'key'),\n",
       " (0.0, 'instrumentalness'),\n",
       " (0.0, 'energy'),\n",
       " (0.0, 'duration_ms'),\n",
       " (0.0, 'danceability'),\n",
       " (0.0, 'acousticness')]"
      ]
     },
     "execution_count": 21,
     "metadata": {},
     "output_type": "execute_result"
    }
   ],
   "source": [
    "sorted(zip(rf_Zoe.feature_importances_, features), reverse=True)\n",
    "sorted(zip(rf_Mamta.feature_importances_, features), reverse=True)\n",
    "sorted(zip(rf_Kelly.feature_importances_, features), reverse=True)"
   ]
  },
  {
   "cell_type": "code",
   "execution_count": null,
   "metadata": {},
   "outputs": [],
   "source": []
  }
 ],
 "metadata": {
  "kernelspec": {
   "display_name": "Python [conda env:Spotify]",
   "language": "python",
   "name": "conda-env-Spotify-py"
  },
  "language_info": {
   "codemirror_mode": {
    "name": "ipython",
    "version": 3
   },
   "file_extension": ".py",
   "mimetype": "text/x-python",
   "name": "python",
   "nbconvert_exporter": "python",
   "pygments_lexer": "ipython3",
   "version": "3.6.8"
  }
 },
 "nbformat": 4,
 "nbformat_minor": 2
}
